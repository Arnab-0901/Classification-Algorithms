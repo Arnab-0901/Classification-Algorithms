{
 "cells": [
  {
   "cell_type": "code",
   "execution_count": 1,
   "metadata": {},
   "outputs": [],
   "source": [
    "#Importing Libraries\n",
    "import numpy as np\n",
    "import matplotlib\n",
    "import matplotlib.pyplot as plt\n",
    "import pandas as pd\n",
    "from sklearn import datasets\n",
    "from sklearn.metrics import classification_report\n",
    "from tqdm import tqdm\n",
    "from time import time\n",
    "import copy as cp\n",
    "import tensorflow as tf"
   ]
  },
  {
   "cell_type": "code",
   "execution_count": 2,
   "metadata": {},
   "outputs": [],
   "source": [
    "#Function to add Bias to the dataset\n",
    "def add_ones(data):\n",
    "    new_data=np.zeros([data.shape[0],data.shape[1]+1])\n",
    "    new_data[:,0]=np.ones(data.shape[0])\n",
    "    new_data[:,1:]=data \n",
    "    return new_data"
   ]
  },
  {
   "cell_type": "code",
   "execution_count": 3,
   "metadata": {},
   "outputs": [
    {
     "name": "stderr",
     "output_type": "stream",
     "text": [
      "Using TensorFlow backend.\n"
     ]
    }
   ],
   "source": [
    "#Importing the MNIST Dataset\n",
    "from keras.datasets import mnist\n",
    "(x_train, y_train), (x_test, y_test) = mnist.load_data()\n",
    "\n",
    "x_train=x_train.reshape(x_train.shape[0],-1)\n",
    "x_train=add_ones(x_train).T\n",
    "x_test=x_test.reshape(x_test.shape[0],-1)\n",
    "x_test=add_ones(x_test).T\n",
    "\n",
    "y_train=y_train.reshape(y_train.shape[0],-1).T\n",
    "y_test=y_test.reshape(y_test.shape[0],-1).T"
   ]
  },
  {
   "cell_type": "code",
   "execution_count": 4,
   "metadata": {},
   "outputs": [],
   "source": [
    "#Normalising Data\n",
    "x_train=x_train/255\n",
    "x_test=x_test/255"
   ]
  },
  {
   "cell_type": "code",
   "execution_count": 5,
   "metadata": {},
   "outputs": [],
   "source": [
    "def sigmoid(a):\n",
    "    return (1/(1+np.exp(-a)))"
   ]
  },
  {
   "cell_type": "code",
   "execution_count": 6,
   "metadata": {},
   "outputs": [],
   "source": [
    "def calc_cost(m,Y,A):\n",
    "    return -(1/m)*np.sum(Y*(np.log(A))+(1-Y)*(np.log(1-A)))"
   ]
  },
  {
   "cell_type": "code",
   "execution_count": 7,
   "metadata": {},
   "outputs": [],
   "source": [
    "def calc_weights(w,X):\n",
    "    A = sigmoid(np.dot(w.T,X))\n",
    "    return A"
   ]
  },
  {
   "cell_type": "code",
   "execution_count": 8,
   "metadata": {},
   "outputs": [],
   "source": [
    "def update_weights(m,A,X,Y):\n",
    "    dw=(1/m)*np.dot(X,(A-Y).T)\n",
    "    dw=dw\n",
    "    return dw"
   ]
  },
  {
   "cell_type": "code",
   "execution_count": 9,
   "metadata": {},
   "outputs": [],
   "source": [
    "def gradient_descent(w, X, Y, num_iterations, learning_rate):\n",
    "    costs=[]\n",
    "    m=X.shape[1]\n",
    "    for i in range(num_iterations):\n",
    "        #Forward Propogation\n",
    "        A=calc_weights(w,X)\n",
    "        cost=calc_cost(m,Y,A)\n",
    "        \n",
    "        #Update Weights\n",
    "        dw=update_weights(m,A,X,Y)\n",
    "        w=w-learning_rate*dw\n",
    "        \n",
    "        #Save Cost each Iteration\n",
    "        costs.append(cost)\n",
    "    return w,dw,costs"
   ]
  },
  {
   "cell_type": "code",
   "execution_count": 10,
   "metadata": {},
   "outputs": [],
   "source": [
    "def prediction(weights, X, Y):\n",
    "    m=X.shape[1]\n",
    "    classval=np.zeros((len(weights),m))\n",
    "    for i, (k, w) in enumerate(weights.items()):\n",
    "        A=np.dot(w.T,X)\n",
    "        classval[k,:]=A\n",
    "    classval=classval.T\n",
    "    predict=np.argmax(classval,axis=1)\n",
    "    Y_prediction = np.zeros((1,m))\n",
    "    \n",
    "    count=0\n",
    "    for i in range(1,m):\n",
    "        if Y[0][i]==predict[i]:\n",
    "            count+=1\n",
    "    \n",
    "        \n",
    "        ### END CODE HERE ###\n",
    "    return (count/m)*100"
   ]
  },
  {
   "cell_type": "code",
   "execution_count": 20,
   "metadata": {},
   "outputs": [],
   "source": [
    "def logistic_regression(X_train, Y_train, X_test, Y_test, learning_rate=0.005,num_iterations=100):\n",
    "    \n",
    "    X_train=X_train*0.0001\n",
    "    X_test=X_test*0.0001\n",
    "    class_list=np.unique(Y_train[0])\n",
    "    weights={}\n",
    "    \n",
    "    label_matrix=np.zeros([X_train.shape[0]+1,X_train.shape[1]])\n",
    "    label_matrix[:-1,:]=X_train\n",
    "    label_matrix[-1,:]=Y_train\n",
    "    \n",
    "    classval=np.zeros((len(class_list),X_train.shape[1]))\n",
    "    for c in class_list:\n",
    "        w = np.zeros([X_train.shape[0],1])\n",
    "        new_data=add_label(label_matrix.T,c)\n",
    "        X_train_c=new_data[:,:-1].T\n",
    "        Y_train_c=new_data[:,-1].T\n",
    "        w, dw, costs = gradient_descent(w,X_train_c, Y_train_c, num_iterations, learning_rate)\n",
    "        weights[c]=w\n",
    "        \n",
    "    train_accuracy = prediction(weights, X_train, Y_train)\n",
    "    test_accuracy = prediction(weights, X_test, Y_test)\n",
    "    \n",
    "    return train_accuracy,test_accuracy,costs"
   ]
  },
  {
   "cell_type": "code",
   "execution_count": 21,
   "metadata": {},
   "outputs": [],
   "source": [
    "def add_label(data,val):\n",
    "    new_data=np.zeros([data.shape[0],data.shape[1]])\n",
    "    #new_data[:,0]=np.ones(data.shape[0])\n",
    "    new_data[:,:-1]=data[:,:-1]\n",
    "    label=data[:,-1]\n",
    "\n",
    "    for i in range(len(label)):\n",
    "        l=label[i]\n",
    "        if l==val:\n",
    "            new_data[i][-1]=1\n",
    "        else:\n",
    "            new_data[i][-1]=-1\n",
    "\n",
    "    return new_data\n"
   ]
  },
  {
   "cell_type": "code",
   "execution_count": 22,
   "metadata": {},
   "outputs": [],
   "source": [
    "train_accuracy,test_accuracy,costs=logistic_regression(x_train, y_train, x_test, y_test)"
   ]
  },
  {
   "cell_type": "code",
   "execution_count": 23,
   "metadata": {},
   "outputs": [
    {
     "data": {
      "text/plain": [
       "67.17833333333333"
      ]
     },
     "execution_count": 23,
     "metadata": {},
     "output_type": "execute_result"
    }
   ],
   "source": [
    "print('The Accuracy on the Training Dataset is'+str(train_accuracy))"
   ]
  },
  {
   "cell_type": "code",
   "execution_count": 24,
   "metadata": {},
   "outputs": [
    {
     "data": {
      "text/plain": [
       "68.03"
      ]
     },
     "execution_count": 24,
     "metadata": {},
     "output_type": "execute_result"
    }
   ],
   "source": [
    "print('The Accuracy on the Testing Dataset is'+str(test_accuracy))"
   ]
  },
  {
   "cell_type": "code",
   "execution_count": 25,
   "metadata": {},
   "outputs": [
    {
     "data": {
      "image/png": "[encoded data removed]",
      "text/plain": [
       "<Figure size 432x288 with 1 Axes>"
      ]
     },
     "metadata": {
      "needs_background": "light"
     },
     "output_type": "display_data"
    }
   ],
   "source": [
    "#Plotting the Cost for each Iteration\n",
    "plt.plot(costs)\n",
    "plt.ylabel('Cost')\n",
    "plt.xlabel('Iterations (In Hundreds)')\n",
    "plt.title(\"Learning Rate =0.005\")\n",
    "plt.show()"
   ]
  }
 ],
 "metadata": {
  "kernelspec": {
   "display_name": "Python 3",
   "language": "python",
   "name": "python3"
  },
  "language_info": {
   "codemirror_mode": {
    "name": "ipython",
    "version": 3
   },
   "file_extension": ".py",
   "mimetype": "text/x-python",
   "name": "python",
   "nbconvert_exporter": "python",
   "pygments_lexer": "ipython3",
   "version": "3.7.4"
  }
 },
 "nbformat": 4,
 "nbformat_minor": 2
}
