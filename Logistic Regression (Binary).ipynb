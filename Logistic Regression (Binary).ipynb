{
 "cells": [
  {
   "cell_type": "markdown",
   "metadata": {},
   "source": [
    "<h3>Logistic Regression implemented on a Dataset with Binary Output</h3>"
   ]
  },
  {
   "cell_type": "code",
   "execution_count": 1,
   "metadata": {},
   "outputs": [],
   "source": [
    "#Import Libraries\n",
    "import numpy as np\n",
    "import matplotlib\n",
    "import matplotlib.pyplot as plt\n",
    "import pandas as pd\n",
    "from sklearn import datasets\n",
    "from sklearn.metrics import classification_report\n",
    "from sklearn import preprocessing\n",
    "from tqdm import tqdm\n",
    "from time import time"
   ]
  },
  {
   "cell_type": "markdown",
   "metadata": {},
   "source": [
    "<li>The dataset we are using is Breast Cancer Wisconsin (Diagnostic) Data Set.\n",
    "<li>The dataset consists of 8 different independent parameters listed below-\n",
    "                       <br>&nbsp;&nbsp;&nbsp;&nbsp;&nbsp;&nbsp;&nbsp;&nbsp;&nbsp;&nbsp;['id','clump_size','cell_size','cell_shape','marginal_adhesion','ep_cell_size','bare_nuclei','bland_chromatin','nor_nucleoli','mitosis','class']\n",
    "<li>The parameters are ordinal categorical variables\n",
    "<li>Our goal is to predict the class. 2 stands for benign cancer & 4 stands for malignant cancer. We changed 2 to 0 and 4 to 1 for convenience.\n",
    "<li>Other details about the dataset can be found in the \n",
    "    <a href=\"https://archive.ics.uci.edu/ml/datasets/Breast+Cancer+Wisconsin+(Diagnostic)\">link</a>.\n"
   ]
  },
  {
   "cell_type": "code",
   "execution_count": 2,
   "metadata": {},
   "outputs": [],
   "source": [
    "names=['id','clump_size','cell_size','cell_shape','marginal_adhesion','ep_cell_size','bare_nuclei','bland_chromatin','nor_nucleoli','mitosis','class']\n",
    "data=pd.read_csv('breast-cancer-wisconsin.data',names=names)\n",
    "data=data.drop('id',axis=1)\n",
    "#Dropped the columns with missing data in the bare_nuclei column\n",
    "data=data[data['bare_nuclei']!='?']"
   ]
  },
  {
   "cell_type": "code",
   "execution_count": 3,
   "metadata": {},
   "outputs": [
    {
     "name": "stderr",
     "output_type": "stream",
     "text": [
      "C:\\Users\\arnab\\Anaconda3\\envs\\Python_3.7\\lib\\site-packages\\ipykernel_launcher.py:3: SettingWithCopyWarning: \n",
      "A value is trying to be set on a copy of a slice from a DataFrame\n",
      "\n",
      "See the caveats in the documentation: http://pandas.pydata.org/pandas-docs/stable/user_guide/indexing.html#returning-a-view-versus-a-copy\n",
      "  This is separate from the ipykernel package so we can avoid doing imports until\n"
     ]
    }
   ],
   "source": [
    "#Output data points renamed from 2 & 4 to 0 & 2\n",
    "data['class'][data['class']==2]=0\n",
    "data['class'][data['class']==4]=1"
   ]
  },
  {
   "cell_type": "code",
   "execution_count": 4,
   "metadata": {},
   "outputs": [],
   "source": [
    "#Normalizing the Dataset\n",
    "x = data.values\n",
    "min_max_scaler = preprocessing.MinMaxScaler()\n",
    "x_scaled = min_max_scaler.fit_transform(x)\n",
    "data = pd.DataFrame(x_scaled)\n",
    "data.columns=['clump_size','cell_size','cell_shape','marginal_adhesion','ep_cell_size','bare_nuclei','bland_chromatin','nor_nucleoli','mitosis','class']\n",
    "data=data.sample(frac=1)"
   ]
  },
  {
   "cell_type": "code",
   "execution_count": 5,
   "metadata": {},
   "outputs": [
    {
     "data": {
      "text/html": [
       "<div>\n",
       "<style scoped>\n",
       "    .dataframe tbody tr th:only-of-type {\n",
       "        vertical-align: middle;\n",
       "    }\n",
       "\n",
       "    .dataframe tbody tr th {\n",
       "        vertical-align: top;\n",
       "    }\n",
       "\n",
       "    .dataframe thead th {\n",
       "        text-align: right;\n",
       "    }\n",
       "</style>\n",
       "<table border=\"1\" class=\"dataframe\">\n",
       "  <thead>\n",
       "    <tr style=\"text-align: right;\">\n",
       "      <th></th>\n",
       "      <th>clump_size</th>\n",
       "      <th>cell_size</th>\n",
       "      <th>cell_shape</th>\n",
       "      <th>marginal_adhesion</th>\n",
       "      <th>ep_cell_size</th>\n",
       "      <th>bare_nuclei</th>\n",
       "      <th>bland_chromatin</th>\n",
       "      <th>nor_nucleoli</th>\n",
       "      <th>mitosis</th>\n",
       "      <th>class</th>\n",
       "    </tr>\n",
       "  </thead>\n",
       "  <tbody>\n",
       "    <tr>\n",
       "      <td>372</td>\n",
       "      <td>0.666667</td>\n",
       "      <td>0.555556</td>\n",
       "      <td>0.555556</td>\n",
       "      <td>0.222222</td>\n",
       "      <td>0.111111</td>\n",
       "      <td>1.000000</td>\n",
       "      <td>0.666667</td>\n",
       "      <td>0.000000</td>\n",
       "      <td>0.000000</td>\n",
       "      <td>1.0</td>\n",
       "    </tr>\n",
       "    <tr>\n",
       "      <td>68</td>\n",
       "      <td>0.444444</td>\n",
       "      <td>0.000000</td>\n",
       "      <td>0.222222</td>\n",
       "      <td>0.000000</td>\n",
       "      <td>0.111111</td>\n",
       "      <td>0.000000</td>\n",
       "      <td>0.111111</td>\n",
       "      <td>0.000000</td>\n",
       "      <td>0.000000</td>\n",
       "      <td>0.0</td>\n",
       "    </tr>\n",
       "    <tr>\n",
       "      <td>145</td>\n",
       "      <td>0.777778</td>\n",
       "      <td>0.777778</td>\n",
       "      <td>0.666667</td>\n",
       "      <td>0.333333</td>\n",
       "      <td>1.000000</td>\n",
       "      <td>1.000000</td>\n",
       "      <td>0.666667</td>\n",
       "      <td>0.777778</td>\n",
       "      <td>0.666667</td>\n",
       "      <td>1.0</td>\n",
       "    </tr>\n",
       "    <tr>\n",
       "      <td>635</td>\n",
       "      <td>0.000000</td>\n",
       "      <td>0.111111</td>\n",
       "      <td>0.000000</td>\n",
       "      <td>0.222222</td>\n",
       "      <td>0.111111</td>\n",
       "      <td>0.000000</td>\n",
       "      <td>0.111111</td>\n",
       "      <td>0.000000</td>\n",
       "      <td>0.000000</td>\n",
       "      <td>0.0</td>\n",
       "    </tr>\n",
       "    <tr>\n",
       "      <td>295</td>\n",
       "      <td>0.000000</td>\n",
       "      <td>0.000000</td>\n",
       "      <td>0.000000</td>\n",
       "      <td>0.000000</td>\n",
       "      <td>0.111111</td>\n",
       "      <td>0.000000</td>\n",
       "      <td>0.222222</td>\n",
       "      <td>0.000000</td>\n",
       "      <td>0.000000</td>\n",
       "      <td>0.0</td>\n",
       "    </tr>\n",
       "    <tr>\n",
       "      <td>...</td>\n",
       "      <td>...</td>\n",
       "      <td>...</td>\n",
       "      <td>...</td>\n",
       "      <td>...</td>\n",
       "      <td>...</td>\n",
       "      <td>...</td>\n",
       "      <td>...</td>\n",
       "      <td>...</td>\n",
       "      <td>...</td>\n",
       "      <td>...</td>\n",
       "    </tr>\n",
       "    <tr>\n",
       "      <td>531</td>\n",
       "      <td>0.555556</td>\n",
       "      <td>1.000000</td>\n",
       "      <td>1.000000</td>\n",
       "      <td>1.000000</td>\n",
       "      <td>0.333333</td>\n",
       "      <td>1.000000</td>\n",
       "      <td>0.666667</td>\n",
       "      <td>1.000000</td>\n",
       "      <td>0.000000</td>\n",
       "      <td>1.0</td>\n",
       "    </tr>\n",
       "    <tr>\n",
       "      <td>521</td>\n",
       "      <td>0.444444</td>\n",
       "      <td>0.000000</td>\n",
       "      <td>0.000000</td>\n",
       "      <td>0.000000</td>\n",
       "      <td>0.111111</td>\n",
       "      <td>0.000000</td>\n",
       "      <td>0.222222</td>\n",
       "      <td>0.000000</td>\n",
       "      <td>0.000000</td>\n",
       "      <td>0.0</td>\n",
       "    </tr>\n",
       "    <tr>\n",
       "      <td>316</td>\n",
       "      <td>1.000000</td>\n",
       "      <td>0.333333</td>\n",
       "      <td>0.666667</td>\n",
       "      <td>0.111111</td>\n",
       "      <td>0.111111</td>\n",
       "      <td>0.777778</td>\n",
       "      <td>0.555556</td>\n",
       "      <td>0.000000</td>\n",
       "      <td>0.000000</td>\n",
       "      <td>1.0</td>\n",
       "    </tr>\n",
       "    <tr>\n",
       "      <td>265</td>\n",
       "      <td>0.666667</td>\n",
       "      <td>0.111111</td>\n",
       "      <td>0.333333</td>\n",
       "      <td>0.000000</td>\n",
       "      <td>0.222222</td>\n",
       "      <td>0.333333</td>\n",
       "      <td>0.222222</td>\n",
       "      <td>0.222222</td>\n",
       "      <td>0.000000</td>\n",
       "      <td>1.0</td>\n",
       "    </tr>\n",
       "    <tr>\n",
       "      <td>353</td>\n",
       "      <td>0.444444</td>\n",
       "      <td>0.777778</td>\n",
       "      <td>0.777778</td>\n",
       "      <td>1.000000</td>\n",
       "      <td>0.444444</td>\n",
       "      <td>1.000000</td>\n",
       "      <td>0.777778</td>\n",
       "      <td>1.000000</td>\n",
       "      <td>0.222222</td>\n",
       "      <td>1.0</td>\n",
       "    </tr>\n",
       "  </tbody>\n",
       "</table>\n",
       "<p>683 rows × 10 columns</p>\n",
       "</div>"
      ],
      "text/plain": [
       "     clump_size  cell_size  cell_shape  marginal_adhesion  ep_cell_size  \\\n",
       "372    0.666667   0.555556    0.555556           0.222222      0.111111   \n",
       "68     0.444444   0.000000    0.222222           0.000000      0.111111   \n",
       "145    0.777778   0.777778    0.666667           0.333333      1.000000   \n",
       "635    0.000000   0.111111    0.000000           0.222222      0.111111   \n",
       "295    0.000000   0.000000    0.000000           0.000000      0.111111   \n",
       "..          ...        ...         ...                ...           ...   \n",
       "531    0.555556   1.000000    1.000000           1.000000      0.333333   \n",
       "521    0.444444   0.000000    0.000000           0.000000      0.111111   \n",
       "316    1.000000   0.333333    0.666667           0.111111      0.111111   \n",
       "265    0.666667   0.111111    0.333333           0.000000      0.222222   \n",
       "353    0.444444   0.777778    0.777778           1.000000      0.444444   \n",
       "\n",
       "     bare_nuclei  bland_chromatin  nor_nucleoli   mitosis  class  \n",
       "372     1.000000         0.666667      0.000000  0.000000    1.0  \n",
       "68      0.000000         0.111111      0.000000  0.000000    0.0  \n",
       "145     1.000000         0.666667      0.777778  0.666667    1.0  \n",
       "635     0.000000         0.111111      0.000000  0.000000    0.0  \n",
       "295     0.000000         0.222222      0.000000  0.000000    0.0  \n",
       "..           ...              ...           ...       ...    ...  \n",
       "531     1.000000         0.666667      1.000000  0.000000    1.0  \n",
       "521     0.000000         0.222222      0.000000  0.000000    0.0  \n",
       "316     0.777778         0.555556      0.000000  0.000000    1.0  \n",
       "265     0.333333         0.222222      0.222222  0.000000    1.0  \n",
       "353     1.000000         0.777778      1.000000  0.222222    1.0  \n",
       "\n",
       "[683 rows x 10 columns]"
      ]
     },
     "execution_count": 5,
     "metadata": {},
     "output_type": "execute_result"
    }
   ],
   "source": [
    "#Displaying the dataset\n",
    "data"
   ]
  },
  {
   "cell_type": "code",
   "execution_count": 6,
   "metadata": {},
   "outputs": [],
   "source": [
    "#Dividing the data into 80% training & 20% testing\n",
    "x_train=data[:546]\n",
    "x_test=data[547:]"
   ]
  },
  {
   "cell_type": "code",
   "execution_count": 7,
   "metadata": {},
   "outputs": [],
   "source": [
    "#Separating the Outcomes (Actual Y) from Predictors\n",
    "#The prediction is arranged in the format (Columns,Rows)\n",
    "y_train=x_train['class']\n",
    "y_test=x_test['class']\n",
    "y_train=y_train.to_numpy()\n",
    "y_test=y_test.to_numpy()\n",
    "y_train=y_train.reshape(y_train.shape[0],-1)\n",
    "y_test=y_test.reshape(y_test.shape[0],-1)\n",
    "y_train=y_train.T\n",
    "y_test=y_test.T"
   ]
  },
  {
   "cell_type": "code",
   "execution_count": 8,
   "metadata": {},
   "outputs": [],
   "source": [
    "#Deleting the Outcome Row & arranging the data in (Columns, Row) format\n",
    "x_train=x_train.drop('class',axis=1)\n",
    "x_test=x_test.drop('class',axis=1)\n",
    "x_train=x_train.to_numpy()\n",
    "x_test=x_test.to_numpy()\n",
    "x_train=x_train.T\n",
    "x_test=x_test.T"
   ]
  },
  {
   "cell_type": "code",
   "execution_count": 9,
   "metadata": {},
   "outputs": [],
   "source": [
    "#Sigmoid Function\n",
    "def sigmoid(a):\n",
    "    return (1/(1+np.exp(-a)))"
   ]
  },
  {
   "cell_type": "code",
   "execution_count": 10,
   "metadata": {},
   "outputs": [],
   "source": [
    "#Function to Calculate the Cost J\n",
    "def calc_cost(m,Y,A):\n",
    "    return -(1/m)*np.sum(Y*(np.log(A))+(1-Y)*(np.log(1-A)))"
   ]
  },
  {
   "cell_type": "code",
   "execution_count": 11,
   "metadata": {},
   "outputs": [],
   "source": [
    "#Function to calculate Weight\n",
    "def calc_weights(w,X):\n",
    "    A = sigmoid(np.dot(w.T,X))\n",
    "    return A"
   ]
  },
  {
   "cell_type": "code",
   "execution_count": 12,
   "metadata": {},
   "outputs": [],
   "source": [
    "#Weight Updation Function\n",
    "def update_weights(m,A,X,Y):\n",
    "    dw=(1/m)*np.dot(X,(A-Y).T)\n",
    "    return dw"
   ]
  },
  {
   "cell_type": "code",
   "execution_count": 13,
   "metadata": {},
   "outputs": [],
   "source": [
    "#Gradient Descent Implementation\n",
    "def gradient_descent(w, X, Y, num_iterations, learning_rate):\n",
    "    costs=[]\n",
    "    m=X.shape[1]\n",
    "    for i in range(num_iterations):\n",
    "        A=calc_weights(w,X)\n",
    "        cost=calc_cost(m,Y,A)\n",
    "        \n",
    "        #Update Weights\n",
    "        dw=update_weights(m,A,X,Y)\n",
    "        w=w-learning_rate*dw\n",
    "        \n",
    "        #Save Cost each Iteration\n",
    "        costs.append(cost)\n",
    "    return w,dw,costs"
   ]
  },
  {
   "cell_type": "code",
   "execution_count": 14,
   "metadata": {},
   "outputs": [],
   "source": [
    "#Calculate Accuracy of Predictions after n number of Iterations\n",
    "def prediction(w, X, Y):\n",
    "    m=X.shape[1]\n",
    "    predict=np.zeros((1,m))\n",
    "    A=np.dot(w.T,X)\n",
    "    Y_prediction = np.zeros((1,m))\n",
    "    \n",
    "    count=0\n",
    "    for i in range(1,m):\n",
    "        if A[0][i]<=0.5:\n",
    "            Y_prediction[0][i]=0\n",
    "        else:\n",
    "            Y_prediction[0][i]=1\n",
    "            \n",
    "    for i in range(1,m):\n",
    "        if Y_prediction[0][i]==Y[0][i]:\n",
    "            count+=1\n",
    "        \n",
    "    return (count/X.shape[1])*100"
   ]
  },
  {
   "cell_type": "code",
   "execution_count": 15,
   "metadata": {},
   "outputs": [],
   "source": [
    "#Final Implementation by Calculating \n",
    "def logistic_regression(X_train, Y_train, X_test, Y_test, learning_rate=0.005,num_iterations=1000):\n",
    "    \n",
    "    #Initializing Weights\n",
    "    w = np.zeros([X_train.shape[0],1])\n",
    "    \n",
    "    w, dw, costs = gradient_descent(w,X_train, Y_train, num_iterations, learning_rate)\n",
    "    \n",
    "    # Predict Test & Train\n",
    "    train_accuracy = prediction(w, X_train, Y_train)\n",
    "    test_accuracy = prediction(w, X_test, Y_test)\n",
    "    \n",
    "    return train_accuracy,test_accuracy,costs"
   ]
  },
  {
   "cell_type": "code",
   "execution_count": 16,
   "metadata": {},
   "outputs": [],
   "source": [
    "train_accuracy,test_accuracy,costs=logistic_regression(x_train, y_train, x_test, y_test)"
   ]
  },
  {
   "cell_type": "code",
   "execution_count": 17,
   "metadata": {},
   "outputs": [
    {
     "name": "stdout",
     "output_type": "stream",
     "text": [
      "The Accuracy in percentage calculated on the Training Data is 96.15384615384616\n"
     ]
    }
   ],
   "source": [
    "print('The Accuracy in percentage calculated on the Training Data is '+str(train_accuracy))"
   ]
  },
  {
   "cell_type": "code",
   "execution_count": 18,
   "metadata": {},
   "outputs": [
    {
     "name": "stdout",
     "output_type": "stream",
     "text": [
      "The Accuracy in percentage calculated on the Test Data is 94.11764705882352\n"
     ]
    }
   ],
   "source": [
    "print('The Accuracy in percentage calculated on the Test Data is '+str(test_accuracy))"
   ]
  },
  {
   "cell_type": "markdown",
   "metadata": {},
   "source": [
    "<h3>Finding Accuracy using Sklearn Library</h3>"
   ]
  },
  {
   "cell_type": "code",
   "execution_count": 19,
   "metadata": {},
   "outputs": [],
   "source": [
    "#Arranging the Datasets in (Row, Column) format as required by Sklearn Library\n",
    "x_train_lib=x_train.T\n",
    "y_train_lib=y_train.T\n",
    "x_test_lib=x_test.T\n",
    "y_test_lib=y_test.T"
   ]
  },
  {
   "cell_type": "code",
   "execution_count": 20,
   "metadata": {},
   "outputs": [
    {
     "name": "stderr",
     "output_type": "stream",
     "text": [
      "C:\\Users\\arnab\\Anaconda3\\envs\\Python_3.7\\lib\\site-packages\\sklearn\\linear_model\\logistic.py:432: FutureWarning: Default solver will be changed to 'lbfgs' in 0.22. Specify a solver to silence this warning.\n",
      "  FutureWarning)\n",
      "C:\\Users\\arnab\\Anaconda3\\envs\\Python_3.7\\lib\\site-packages\\sklearn\\utils\\validation.py:724: DataConversionWarning: A column-vector y was passed when a 1d array was expected. Please change the shape of y to (n_samples, ), for example using ravel().\n",
      "  y = column_or_1d(y, warn=True)\n"
     ]
    }
   ],
   "source": [
    "from sklearn.linear_model import LogisticRegression\n",
    "clf = LogisticRegression(random_state=0).fit(x_train_lib, y_train_lib)"
   ]
  },
  {
   "cell_type": "code",
   "execution_count": 21,
   "metadata": {},
   "outputs": [
    {
     "name": "stdout",
     "output_type": "stream",
     "text": [
      "The Accuracy in percentage calculated on the Train Data using sklearn Library is 97.25274725274726\n"
     ]
    }
   ],
   "source": [
    "train_accuracy=clf.score(x_train_lib, y_train_lib)\n",
    "print('The Accuracy in percentage calculated on the Train Data using sklearn Library is '+str(train_accuracy*100))"
   ]
  },
  {
   "cell_type": "code",
   "execution_count": 22,
   "metadata": {},
   "outputs": [
    {
     "name": "stdout",
     "output_type": "stream",
     "text": [
      "The Accuracy in percentage calculated on the Test Data using sklearn Library is 94.85294117647058\n"
     ]
    }
   ],
   "source": [
    "test_accuracy=clf.score(x_test_lib, y_test_lib)\n",
    "print('The Accuracy in percentage calculated on the Test Data using sklearn Library is '+str(test_accuracy*100))"
   ]
  }
 ],
 "metadata": {
  "kernelspec": {
   "display_name": "Python 3",
   "language": "python",
   "name": "python3"
  },
  "language_info": {
   "codemirror_mode": {
    "name": "ipython",
    "version": 3
   },
   "file_extension": ".py",
   "mimetype": "text/x-python",
   "name": "python",
   "nbconvert_exporter": "python",
   "pygments_lexer": "ipython3",
   "version": "3.7.4"
  }
 },
 "nbformat": 4,
 "nbformat_minor": 2
}
